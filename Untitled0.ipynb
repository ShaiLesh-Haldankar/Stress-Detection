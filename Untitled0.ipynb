{
  "nbformat": 4,
  "nbformat_minor": 0,
  "metadata": {
    "colab": {
      "name": "Untitled0.ipynb",
      "version": "0.3.2",
      "provenance": []
    },
    "kernelspec": {
      "name": "python3",
      "display_name": "Python 3"
    },
    "accelerator": "GPU"
  },
  "cells": [
    {
      "metadata": {
        "id": "ugN6DCNsF-Kw",
        "colab_type": "code",
        "colab": {}
      },
      "cell_type": "code",
      "source": [
        "import numpy as np\n",
        "import pandas as pd\n",
        "from sklearn import preprocessing\n",
        "from sklearn.cluster import KMeans\n",
        "from sklearn.decomposition import PCA\n",
        "from sklearn.model_selection import train_test_split, GridSearchCV"
      ],
      "execution_count": 0,
      "outputs": []
    },
    {
      "metadata": {
        "id": "OHcPXBylGGEz",
        "colab_type": "code",
        "outputId": "af8f3223-85c2-41c7-dbf6-7fa49b9c0f2e",
        "colab": {
          "base_uri": "https://localhost:8080/",
          "height": 51
        }
      },
      "cell_type": "code",
      "source": [
        "# Code to read csv file into Colaboratory:\n",
        "!pip install -U -q PyDrive\n",
        "from pydrive.auth import GoogleAuth\n",
        "from pydrive.drive import GoogleDrive\n",
        "from google.colab import auth\n",
        "from oauth2client.client import GoogleCredentials\n",
        "# Authenticate and create the PyDrive client.\n",
        "auth.authenticate_user()\n",
        "gauth = GoogleAuth()\n",
        "gauth.credentials = GoogleCredentials.get_application_default()\n",
        "drive = GoogleDrive(gauth)"
      ],
      "execution_count": 3,
      "outputs": [
        {
          "output_type": "stream",
          "text": [
            "\u001b[?25l\r\u001b[K    1% |▎                               | 10kB 20.6MB/s eta 0:00:01\r\u001b[K    2% |▋                               | 20kB 1.8MB/s eta 0:00:01\r\u001b[K    3% |█                               | 30kB 2.7MB/s eta 0:00:01\r\u001b[K    4% |█▎                              | 40kB 1.8MB/s eta 0:00:01\r\u001b[K    5% |█▋                              | 51kB 2.2MB/s eta 0:00:01\r\u001b[K    6% |██                              | 61kB 2.6MB/s eta 0:00:01\r\u001b[K    7% |██▎                             | 71kB 3.0MB/s eta 0:00:01\r\u001b[K    8% |██▋                             | 81kB 3.4MB/s eta 0:00:01\r\u001b[K    9% |███                             | 92kB 3.8MB/s eta 0:00:01\r\u001b[K    10% |███▎                            | 102kB 2.9MB/s eta 0:00:01\r\u001b[K    11% |███▋                            | 112kB 2.9MB/s eta 0:00:01\r\u001b[K    12% |████                            | 122kB 4.1MB/s eta 0:00:01\r\u001b[K    13% |████▎                           | 133kB 4.1MB/s eta 0:00:01\r\u001b[K    14% |████▋                           | 143kB 7.8MB/s eta 0:00:01\r\u001b[K    15% |█████                           | 153kB 7.8MB/s eta 0:00:01\r\u001b[K    16% |█████▎                          | 163kB 7.8MB/s eta 0:00:01\r\u001b[K    17% |█████▋                          | 174kB 7.8MB/s eta 0:00:01\r\u001b[K    18% |██████                          | 184kB 7.9MB/s eta 0:00:01\r\u001b[K    19% |██████▎                         | 194kB 7.9MB/s eta 0:00:01\r\u001b[K    20% |██████▋                         | 204kB 8.1MB/s eta 0:00:01\r\u001b[K    21% |███████                         | 215kB 8.0MB/s eta 0:00:01\r\u001b[K    22% |███████▎                        | 225kB 8.0MB/s eta 0:00:01\r\u001b[K    23% |███████▋                        | 235kB 8.1MB/s eta 0:00:01\r\u001b[K    24% |████████                        | 245kB 8.1MB/s eta 0:00:01\r\u001b[K    25% |████████▎                       | 256kB 8.2MB/s eta 0:00:01\r\u001b[K    26% |████████▋                       | 266kB 8.0MB/s eta 0:00:01\r\u001b[K    27% |█████████                       | 276kB 8.1MB/s eta 0:00:01\r\u001b[K    29% |█████████▎                      | 286kB 8.1MB/s eta 0:00:01\r\u001b[K    30% |█████████▋                      | 296kB 8.1MB/s eta 0:00:01\r\u001b[K    31% |██████████                      | 307kB 47.1MB/s eta 0:00:01\r\u001b[K    32% |██████████▎                     | 317kB 52.1MB/s eta 0:00:01\r\u001b[K    33% |██████████▋                     | 327kB 52.7MB/s eta 0:00:01\r\u001b[K    34% |███████████                     | 337kB 53.4MB/s eta 0:00:01\r\u001b[K    35% |███████████▎                    | 348kB 47.1MB/s eta 0:00:01\r\u001b[K    36% |███████████▋                    | 358kB 46.8MB/s eta 0:00:01\r\u001b[K    37% |████████████                    | 368kB 52.6MB/s eta 0:00:01\r\u001b[K    38% |████████████▎                   | 378kB 52.5MB/s eta 0:00:01\r\u001b[K    39% |████████████▋                   | 389kB 52.9MB/s eta 0:00:01\r\u001b[K    40% |█████████████                   | 399kB 10.5MB/s eta 0:00:01\r\u001b[K    41% |█████████████▎                  | 409kB 10.5MB/s eta 0:00:01\r\u001b[K    42% |█████████████▋                  | 419kB 10.5MB/s eta 0:00:01\r\u001b[K    43% |██████████████                  | 430kB 10.5MB/s eta 0:00:01\r\u001b[K    44% |██████████████▎                 | 440kB 10.5MB/s eta 0:00:01\r\u001b[K    45% |██████████████▋                 | 450kB 10.6MB/s eta 0:00:01\r\u001b[K    46% |███████████████                 | 460kB 10.6MB/s eta 0:00:01\r\u001b[K    47% |███████████████▎                | 471kB 10.6MB/s eta 0:00:01\r\u001b[K    48% |███████████████▋                | 481kB 10.6MB/s eta 0:00:01\r\u001b[K    49% |████████████████                | 491kB 10.5MB/s eta 0:00:01\r\u001b[K    50% |████████████████▎               | 501kB 52.0MB/s eta 0:00:01\r\u001b[K    51% |████████████████▋               | 512kB 49.4MB/s eta 0:00:01\r\u001b[K    52% |█████████████████               | 522kB 48.7MB/s eta 0:00:01\r\u001b[K    53% |█████████████████▎              | 532kB 49.3MB/s eta 0:00:01\r\u001b[K    54% |█████████████████▋              | 542kB 50.4MB/s eta 0:00:01\r\u001b[K    55% |██████████████████              | 552kB 53.8MB/s eta 0:00:01\r\u001b[K    57% |██████████████████▎             | 563kB 55.2MB/s eta 0:00:01\r\u001b[K    58% |██████████████████▋             | 573kB 55.1MB/s eta 0:00:01\r\u001b[K    59% |███████████████████             | 583kB 56.2MB/s eta 0:00:01\r\u001b[K    60% |███████████████████▎            | 593kB 58.4MB/s eta 0:00:01\r\u001b[K    61% |███████████████████▋            | 604kB 59.6MB/s eta 0:00:01\r\u001b[K    62% |████████████████████            | 614kB 63.5MB/s eta 0:00:01\r\u001b[K    63% |████████████████████▎           | 624kB 10.3MB/s eta 0:00:01\r\u001b[K    64% |████████████████████▋           | 634kB 10.3MB/s eta 0:00:01\r\u001b[K    65% |█████████████████████           | 645kB 10.2MB/s eta 0:00:01\r\u001b[K    66% |█████████████████████▎          | 655kB 10.2MB/s eta 0:00:01\r\u001b[K    67% |█████████████████████▋          | 665kB 9.7MB/s eta 0:00:01\r\u001b[K    68% |██████████████████████          | 675kB 9.7MB/s eta 0:00:01\r\u001b[K    69% |██████████████████████▎         | 686kB 9.7MB/s eta 0:00:01\r\u001b[K    70% |██████████████████████▋         | 696kB 9.7MB/s eta 0:00:01\r\u001b[K    71% |███████████████████████         | 706kB 9.7MB/s eta 0:00:01\r\u001b[K    72% |███████████████████████▎        | 716kB 9.7MB/s eta 0:00:01\r\u001b[K    73% |███████████████████████▋        | 727kB 46.6MB/s eta 0:00:01\r\u001b[K    74% |████████████████████████        | 737kB 47.2MB/s eta 0:00:01\r\u001b[K    75% |████████████████████████▎       | 747kB 47.5MB/s eta 0:00:01\r\u001b[K    76% |████████████████████████▋       | 757kB 48.4MB/s eta 0:00:01\r\u001b[K    77% |████████████████████████▉       | 768kB 63.4MB/s eta 0:00:01\r\u001b[K    78% |█████████████████████████▏      | 778kB 64.9MB/s eta 0:00:01\r\u001b[K    79% |█████████████████████████▌      | 788kB 64.2MB/s eta 0:00:01\r\u001b[K    80% |█████████████████████████▉      | 798kB 65.0MB/s eta 0:00:01\r\u001b[K    81% |██████████████████████████▏     | 808kB 65.6MB/s eta 0:00:01\r\u001b[K    82% |██████████████████████████▌     | 819kB 64.0MB/s eta 0:00:01\r\u001b[K    83% |██████████████████████████▉     | 829kB 65.1MB/s eta 0:00:01\r\u001b[K    85% |███████████████████████████▏    | 839kB 61.9MB/s eta 0:00:01\r\u001b[K    86% |███████████████████████████▌    | 849kB 62.3MB/s eta 0:00:01\r\u001b[K    87% |███████████████████████████▉    | 860kB 55.3MB/s eta 0:00:01\r\u001b[K    88% |████████████████████████████▏   | 870kB 54.4MB/s eta 0:00:01\r\u001b[K    89% |████████████████████████████▌   | 880kB 54.0MB/s eta 0:00:01\r\u001b[K    90% |████████████████████████████▉   | 890kB 54.3MB/s eta 0:00:01\r\u001b[K    91% |█████████████████████████████▏  | 901kB 53.0MB/s eta 0:00:01\r\u001b[K    92% |█████████████████████████████▌  | 911kB 54.2MB/s eta 0:00:01\r\u001b[K    93% |█████████████████████████████▉  | 921kB 53.9MB/s eta 0:00:01\r\u001b[K    94% |██████████████████████████████▏ | 931kB 54.8MB/s eta 0:00:01\r\u001b[K    95% |██████████████████████████████▌ | 942kB 57.5MB/s eta 0:00:01\r\u001b[K    96% |██████████████████████████████▉ | 952kB 57.5MB/s eta 0:00:01\r\u001b[K    97% |███████████████████████████████▏| 962kB 66.0MB/s eta 0:00:01\r\u001b[K    98% |███████████████████████████████▌| 972kB 66.7MB/s eta 0:00:01\r\u001b[K    99% |███████████████████████████████▉| 983kB 66.9MB/s eta 0:00:01\r\u001b[K    100% |████████████████████████████████| 993kB 19.8MB/s \n",
            "\u001b[?25h  Building wheel for PyDrive (setup.py) ... \u001b[?25ldone\n",
            "\u001b[?25h"
          ],
          "name": "stdout"
        }
      ]
    },
    {
      "metadata": {
        "id": "TPKuR8vvGcCy",
        "colab_type": "code",
        "outputId": "40fc86a6-5fa6-498c-9a96-056399d4ea0f",
        "colab": {
          "base_uri": "https://localhost:8080/",
          "height": 34
        }
      },
      "cell_type": "code",
      "source": [
        "link = 'https://drive.google.com/open?id=10PkWr8NtrhIquQoEgBwosijPj-AzL6Fy' \n",
        "fluff, id = link.split('=')\n",
        "print (id) \n",
        "downloaded = drive.CreateFile({'id':id}) \n",
        "downloaded.GetContentFile('merge.csv')  \n",
        "df = pd.read_csv('merge.csv')"
      ],
      "execution_count": 4,
      "outputs": [
        {
          "output_type": "stream",
          "text": [
            "10PkWr8NtrhIquQoEgBwosijPj-AzL6Fy\n"
          ],
          "name": "stdout"
        }
      ]
    },
    {
      "metadata": {
        "id": "twoGDEJvG6PI",
        "colab_type": "code",
        "colab": {}
      },
      "cell_type": "code",
      "source": [
        "target = 'emotion'\n",
        "\n",
        "cols = df._get_numeric_data()\n"
      ],
      "execution_count": 0,
      "outputs": []
    },
    {
      "metadata": {
        "id": "LF7cyrIeHOlC",
        "colab_type": "code",
        "outputId": "47561161-7462-4119-b0e2-24d9b9377172",
        "colab": {
          "base_uri": "https://localhost:8080/",
          "height": 102
        }
      },
      "cell_type": "code",
      "source": [
        "columns = df.columns.tolist()\n",
        "target = 'emotion'\n",
        "train = df.sample(frac = 0.8, random_state = 1)\n",
        "test = df.loc[~df.index.isin(train.index)]\n",
        "\n",
        "y_train = train['emotion']\n",
        "y_test = test['emotion']\n",
        "\n",
        "train.drop(['emotion'],inplace= True,axis = 1 )\n",
        "test.drop(['emotion'],inplace= True,axis = 1)"
      ],
      "execution_count": 6,
      "outputs": [
        {
          "output_type": "stream",
          "text": [
            "/usr/local/lib/python3.6/dist-packages/ipykernel_launcher.py:10: SettingWithCopyWarning: \n",
            "A value is trying to be set on a copy of a slice from a DataFrame\n",
            "\n",
            "See the caveats in the documentation: http://pandas.pydata.org/pandas-docs/stable/indexing.html#indexing-view-versus-copy\n",
            "  # Remove the CWD from sys.path while we load stuff.\n"
          ],
          "name": "stderr"
        }
      ]
    },
    {
      "metadata": {
        "id": "sl-PHR3qHRzA",
        "colab_type": "code",
        "colab": {}
      },
      "cell_type": "code",
      "source": [
        "from sklearn.linear_model import LogisticRegression"
      ],
      "execution_count": 0,
      "outputs": []
    },
    {
      "metadata": {
        "id": "q7nOwBiSIUf8",
        "colab_type": "code",
        "colab": {}
      },
      "cell_type": "code",
      "source": [
        "model = LogisticRegression(class_weight = 'balanced')"
      ],
      "execution_count": 0,
      "outputs": []
    },
    {
      "metadata": {
        "id": "-8tXJDgvI7Fh",
        "colab_type": "code",
        "outputId": "1102013d-0801-4706-a29b-1b3384e00dc3",
        "colab": {
          "base_uri": "https://localhost:8080/",
          "height": 105
        }
      },
      "cell_type": "code",
      "source": [
        "model = model.fit(train, y_train)"
      ],
      "execution_count": 0,
      "outputs": [
        {
          "output_type": "stream",
          "text": [
            "/usr/local/lib/python3.6/dist-packages/sklearn/linear_model/logistic.py:433: FutureWarning: Default solver will be changed to 'lbfgs' in 0.22. Specify a solver to silence this warning.\n",
            "  FutureWarning)\n",
            "/usr/local/lib/python3.6/dist-packages/sklearn/linear_model/logistic.py:460: FutureWarning: Default multi_class will be changed to 'auto' in 0.22. Specify the multi_class option to silence this warning.\n",
            "  \"this warning.\", FutureWarning)\n"
          ],
          "name": "stderr"
        }
      ]
    },
    {
      "metadata": {
        "id": "OEo3XM2aJITB",
        "colab_type": "code",
        "colab": {}
      },
      "cell_type": "code",
      "source": [
        "param = {'C' : [0.001,0.1, 100]} \n",
        "model_g = GridSearchCV(estimator = model, param_grid = param, scoring = 'neg_log_loss', n_jobs = -1, cv = 2, verbose = 10)\n",
        "\n",
        "model_g.fit(train, y_train)"
      ],
      "execution_count": 0,
      "outputs": []
    },
    {
      "metadata": {
        "id": "a1_7XohkKPGl",
        "colab_type": "code",
        "colab": {}
      },
      "cell_type": "code",
      "source": [
        "model_g,best_params_"
      ],
      "execution_count": 0,
      "outputs": []
    },
    {
      "metadata": {
        "id": "NTgh456Fy7XJ",
        "colab_type": "code",
        "colab": {}
      },
      "cell_type": "code",
      "source": [
        ""
      ],
      "execution_count": 0,
      "outputs": []
    }
  ]
}